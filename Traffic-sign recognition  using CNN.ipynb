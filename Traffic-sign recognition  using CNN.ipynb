{
 "cells": [
  {
   "cell_type": "code",
   "execution_count": 3,
   "metadata": {},
   "outputs": [],
   "source": [
    "import numpy as np \n",
    "import pandas as pd \n",
    "import matplotlib.pyplot as plt\n",
    "import cv2\n",
    "import tensorflow as tf\n",
    "from PIL import Image\n",
    "import os\n",
    "from sklearn.model_selection import train_test_split\n",
    "from keras.utils import to_categorical\n",
    "from keras.models import Sequential, load_model\n",
    "from keras.layers import Conv2D, MaxPool2D, Dense, Flatten, Dropout\n"
   ]
  },
  {
   "cell_type": "code",
   "execution_count": 5,
   "metadata": {},
   "outputs": [],
   "source": [
    "data = []\n",
    "labels = []\n",
    "classes = 43\n",
    "cur_path = os.getcwd()"
   ]
  },
  {
   "cell_type": "code",
   "execution_count": 6,
   "metadata": {},
   "outputs": [],
   "source": [
    "#Retrieving the images and their labels \n",
    "for i in range(classes):\n",
    "    path = os.path.join('D:\\Downloads\\82373_191501_bundle_archive','train',str(i))\n",
    "    images = os.listdir(path)\n",
    "    for a in images:\n",
    "        try:\n",
    "            image = Image.open(path + '\\\\'+ a)\n",
    "            image = image.resize((30,30))\n",
    "            image = np.array(image)\n",
    "            #sim = Image.fromarray(image)\n",
    "            data.append(image)\n",
    "            labels.append(i)\n",
    "        except:\n",
    "            print(\"Error loading image\")\n"
   ]
  },
  {
   "cell_type": "code",
   "execution_count": 7,
   "metadata": {},
   "outputs": [
    {
     "name": "stdout",
     "output_type": "stream",
     "text": [
      "(39209, 30, 30, 3) (39209,)\n"
     ]
    }
   ],
   "source": [
    "#Converting lists into numpy arrays\n",
    "data = np.array(data)\n",
    "labels = np.array(labels)\n",
    "print(data.shape, labels.shape)"
   ]
  },
  {
   "cell_type": "code",
   "execution_count": 8,
   "metadata": {},
   "outputs": [
    {
     "name": "stdout",
     "output_type": "stream",
     "text": [
      "(31367, 30, 30, 3) (7842, 30, 30, 3) (31367,) (7842,)\n"
     ]
    }
   ],
   "source": [
    "#Splitting training and testing dataset\n",
    "X_train, X_test, y_train, y_test = train_test_split(data, labels, test_size=0.2, random_state=42)\n",
    "print(X_train.shape, X_test.shape, y_train.shape, y_test.shape)\n"
   ]
  },
  {
   "cell_type": "code",
   "execution_count": 9,
   "metadata": {},
   "outputs": [],
   "source": [
    "#Converting the labels into one hot encoding\n",
    "y_train = to_categorical(y_train, 43)\n",
    "y_test = to_categorical(y_test, 43)\n"
   ]
  },
  {
   "cell_type": "code",
   "execution_count": 10,
   "metadata": {},
   "outputs": [
    {
     "name": "stdout",
     "output_type": "stream",
     "text": [
      "WARNING:tensorflow:From C:\\Users\\dell\\Anaconda3\\lib\\site-packages\\keras\\backend\\tensorflow_backend.py:4070: The name tf.nn.max_pool is deprecated. Please use tf.nn.max_pool2d instead.\n",
      "\n"
     ]
    }
   ],
   "source": [
    "#Building the model\n",
    "model = Sequential()\n",
    "model.add(Conv2D(filters=32, kernel_size=(5,5), activation='relu', input_shape=X_train.shape[1:]))\n",
    "model.add(Conv2D(filters=32, kernel_size=(5,5), activation='relu'))\n",
    "model.add(MaxPool2D(pool_size=(2, 2)))\n",
    "model.add(Dropout(rate=0.25))\n",
    "model.add(Conv2D(filters=64, kernel_size=(3, 3), activation='relu'))\n",
    "model.add(Conv2D(filters=64, kernel_size=(3, 3), activation='relu'))\n",
    "model.add(MaxPool2D(pool_size=(2, 2)))\n",
    "model.add(Dropout(rate=0.25))\n",
    "model.add(Flatten())\n",
    "model.add(Dense(256, activation='relu'))\n",
    "model.add(Dropout(rate=0.5))\n",
    "model.add(Dense(43, activation='softmax'))\n"
   ]
  },
  {
   "cell_type": "code",
   "execution_count": 11,
   "metadata": {},
   "outputs": [
    {
     "name": "stdout",
     "output_type": "stream",
     "text": [
      "WARNING:tensorflow:From C:\\Users\\dell\\Anaconda3\\lib\\site-packages\\keras\\backend\\tensorflow_backend.py:422: The name tf.global_variables is deprecated. Please use tf.compat.v1.global_variables instead.\n",
      "\n",
      "Train on 31367 samples, validate on 7842 samples\n",
      "Epoch 1/15\n",
      "31367/31367 [==============================] - 73s 2ms/step - loss: 2.1178 - accuracy: 0.4550 - val_loss: 0.6842 - val_accuracy: 0.8249\n",
      "Epoch 2/15\n",
      "31367/31367 [==============================] - 77s 2ms/step - loss: 0.8884 - accuracy: 0.7331 - val_loss: 0.3677 - val_accuracy: 0.8944\n",
      "Epoch 3/15\n",
      "31367/31367 [==============================] - 79s 3ms/step - loss: 0.6296 - accuracy: 0.8036 - val_loss: 0.2776 - val_accuracy: 0.9178\n",
      "Epoch 4/15\n",
      "31367/31367 [==============================] - 77s 2ms/step - loss: 0.5503 - accuracy: 0.8300 - val_loss: 0.2520 - val_accuracy: 0.9322\n",
      "Epoch 5/15\n",
      "31367/31367 [==============================] - 79s 3ms/step - loss: 0.4747 - accuracy: 0.8558 - val_loss: 0.2296 - val_accuracy: 0.9356\n",
      "Epoch 6/15\n",
      "31367/31367 [==============================] - 73s 2ms/step - loss: 0.4443 - accuracy: 0.8646 - val_loss: 0.1768 - val_accuracy: 0.9467\n",
      "Epoch 7/15\n",
      "31367/31367 [==============================] - 73s 2ms/step - loss: 0.4064 - accuracy: 0.8762 - val_loss: 0.1747 - val_accuracy: 0.9476\n",
      "Epoch 8/15\n",
      "31367/31367 [==============================] - 74s 2ms/step - loss: 0.3876 - accuracy: 0.8849 - val_loss: 0.1493 - val_accuracy: 0.9563\n",
      "Epoch 9/15\n",
      "31367/31367 [==============================] - 75s 2ms/step - loss: 0.3771 - accuracy: 0.8846 - val_loss: 0.1686 - val_accuracy: 0.9554\n",
      "Epoch 10/15\n",
      "31367/31367 [==============================] - 74s 2ms/step - loss: 0.3541 - accuracy: 0.8931 - val_loss: 0.1870 - val_accuracy: 0.9422\n",
      "Epoch 11/15\n",
      "31367/31367 [==============================] - 73s 2ms/step - loss: 0.3428 - accuracy: 0.8971 - val_loss: 0.1474 - val_accuracy: 0.9561\n",
      "Epoch 12/15\n",
      "31367/31367 [==============================] - 73s 2ms/step - loss: 0.3221 - accuracy: 0.9031 - val_loss: 0.1815 - val_accuracy: 0.9505\n",
      "Epoch 13/15\n",
      "31367/31367 [==============================] - 74s 2ms/step - loss: 0.3385 - accuracy: 0.8982 - val_loss: 0.1168 - val_accuracy: 0.9634\n",
      "Epoch 14/15\n",
      "31367/31367 [==============================] - 73s 2ms/step - loss: 0.3365 - accuracy: 0.9013 - val_loss: 0.1385 - val_accuracy: 0.9552\n",
      "Epoch 15/15\n",
      "31367/31367 [==============================] - 73s 2ms/step - loss: 0.3207 - accuracy: 0.9060 - val_loss: 0.1088 - val_accuracy: 0.9675\n"
     ]
    }
   ],
   "source": [
    "#Compilation of the model\n",
    "model.compile(loss='categorical_crossentropy', optimizer='adam', metrics=['accuracy'])\n",
    "epochs = 15\n",
    "history = model.fit(X_train, y_train, batch_size=32, epochs=epochs, validation_data=(X_test, y_test))\n",
    "model.save(\"my_model.h5\")\n"
   ]
  },
  {
   "cell_type": "code",
   "execution_count": 12,
   "metadata": {},
   "outputs": [
    {
     "data": {
      "image/png": "[encoded data removed]",
      "text/plain": [
       "<Figure size 432x288 with 1 Axes>"
      ]
     },
     "metadata": {
      "needs_background": "light"
     },
     "output_type": "display_data"
    },
    {
     "data": {
      "image/png": "[encoded data removed]",
      "text/plain": [
       "<Figure size 432x288 with 1 Axes>"
      ]
     },
     "metadata": {
      "needs_background": "light"
     },
     "output_type": "display_data"
    }
   ],
   "source": [
    "#plotting graphs for accuracy \n",
    "plt.figure(0)\n",
    "plt.plot(history.history['accuracy'], label='training accuracy')\n",
    "plt.plot(history.history['val_accuracy'], label='val accuracy')\n",
    "plt.title('Accuracy')\n",
    "plt.xlabel('epochs')\n",
    "plt.ylabel('accuracy')\n",
    "plt.legend()\n",
    "plt.show()\n",
    "plt.figure(1)\n",
    "plt.plot(history.history['loss'], label='training loss')\n",
    "plt.plot(history.history['val_loss'], label='val loss')\n",
    "plt.title('Loss')\n",
    "plt.xlabel('epochs')\n",
    "plt.ylabel('loss')\n",
    "plt.legend()\n",
    "plt.show()\n"
   ]
  },
  {
   "cell_type": "code",
   "execution_count": 36,
   "metadata": {},
   "outputs": [
    {
     "name": "stdout",
     "output_type": "stream",
     "text": [
      "['Test/00000.png' 'Test/00001.png' 'Test/00002.png' 'Test/00003.png'\n",
      " 'Test/00004.png' 'Test/00005.png' 'Test/00006.png' 'Test/00007.png'\n",
      " 'Test/00008.png' 'Test/00009.png']\n"
     ]
    }
   ],
   "source": [
    "#testing accuracy on test dataset\n",
    "from sklearn.metrics import accuracy_score\n",
    "y_test = pd.read_csv('D:\\Downloads\\82373_191501_bundle_archive\\Test.csv')\n",
    "labels = y_test[\"ClassId\"].values\n",
    "imgs = y_test[\"Path\"].values\n",
    "data=[]\n",
    "print(imgs[:10])\n",
    "\n"
   ]
  },
  {
   "cell_type": "code",
   "execution_count": 37,
   "metadata": {},
   "outputs": [],
   "source": [
    "for img in imgs:\n",
    "    image = Image.open(\"D:\\Downloads\\82373_191501_bundle_archive/\"+img)\n",
    "    image = image.resize((30,30))\n",
    "    data.append(np.array(image))\n",
    "X_test=np.array(data)\n",
    "pred = model.predict_classes(X_test)"
   ]
  },
  {
   "cell_type": "code",
   "execution_count": 39,
   "metadata": {},
   "outputs": [
    {
     "name": "stdout",
     "output_type": "stream",
     "text": [
      "0.9263657957244655\n"
     ]
    }
   ],
   "source": [
    "#Accuracy with the test data\n",
    "from sklearn.metrics import accuracy_score\n",
    "print(accuracy_score(labels, pred))\n",
    "model.save('traffic_classifier.h5')\n"
   ]
  },
  {
   "cell_type": "code",
   "execution_count": null,
   "metadata": {},
   "outputs": [],
   "source": []
  },
  {
   "cell_type": "markdown",
   "metadata": {},
   "source": [
    "Make the GUI with Tkinter  GUI toolkit "
   ]
  },
  {
   "cell_type": "code",
   "execution_count": 40,
   "metadata": {},
   "outputs": [
    {
     "name": "stdout",
     "output_type": "stream",
     "text": [
      "Veh > 3.5 tons prohibited\n",
      "Keep right\n",
      "Road work\n"
     ]
    },
    {
     "name": "stderr",
     "output_type": "stream",
     "text": [
      "Exception in Tkinter callback\n",
      "Traceback (most recent call last):\n",
      "  File \"C:\\Users\\dell\\Anaconda3\\lib\\tkinter\\__init__.py\", line 1705, in __call__\n",
      "    return self.func(*args)\n",
      "  File \"<ipython-input-40-d2ffc628c50c>\", line 71, in <lambda>\n",
      "    classify_b=Button(top,text=\"Classify Image\",command=lambda: classify(file_path),padx=10,pady=5)\n",
      "  File \"<ipython-input-40-d2ffc628c50c>\", line 66, in classify\n",
      "    pred = model.predict_classes([image])[0]\n",
      "  File \"C:\\Users\\dell\\Anaconda3\\lib\\site-packages\\keras\\engine\\sequential.py\", line 268, in predict_classes\n",
      "    proba = self.predict(x, batch_size=batch_size, verbose=verbose)\n",
      "  File \"C:\\Users\\dell\\Anaconda3\\lib\\site-packages\\keras\\engine\\training.py\", line 1441, in predict\n",
      "    x, _, _ = self._standardize_user_data(x)\n",
      "  File \"C:\\Users\\dell\\Anaconda3\\lib\\site-packages\\keras\\engine\\training.py\", line 579, in _standardize_user_data\n",
      "    exception_prefix='input')\n",
      "  File \"C:\\Users\\dell\\Anaconda3\\lib\\site-packages\\keras\\engine\\training_utils.py\", line 145, in standardize_input_data\n",
      "    str(data_shape))\n",
      "ValueError: Error when checking input: expected conv2d_1_input to have shape (30, 30, 3) but got array with shape (30, 30, 4)\n",
      "Exception in Tkinter callback\n",
      "Traceback (most recent call last):\n",
      "  File \"C:\\Users\\dell\\Anaconda3\\lib\\tkinter\\__init__.py\", line 1705, in __call__\n",
      "    return self.func(*args)\n",
      "  File \"<ipython-input-40-d2ffc628c50c>\", line 71, in <lambda>\n",
      "    classify_b=Button(top,text=\"Classify Image\",command=lambda: classify(file_path),padx=10,pady=5)\n",
      "  File \"<ipython-input-40-d2ffc628c50c>\", line 66, in classify\n",
      "    pred = model.predict_classes([image])[0]\n",
      "  File \"C:\\Users\\dell\\Anaconda3\\lib\\site-packages\\keras\\engine\\sequential.py\", line 268, in predict_classes\n",
      "    proba = self.predict(x, batch_size=batch_size, verbose=verbose)\n",
      "  File \"C:\\Users\\dell\\Anaconda3\\lib\\site-packages\\keras\\engine\\training.py\", line 1441, in predict\n",
      "    x, _, _ = self._standardize_user_data(x)\n",
      "  File \"C:\\Users\\dell\\Anaconda3\\lib\\site-packages\\keras\\engine\\training.py\", line 579, in _standardize_user_data\n",
      "    exception_prefix='input')\n",
      "  File \"C:\\Users\\dell\\Anaconda3\\lib\\site-packages\\keras\\engine\\training_utils.py\", line 145, in standardize_input_data\n",
      "    str(data_shape))\n",
      "ValueError: Error when checking input: expected conv2d_1_input to have shape (30, 30, 3) but got array with shape (30, 30, 4)\n",
      "Exception in Tkinter callback\n",
      "Traceback (most recent call last):\n",
      "  File \"C:\\Users\\dell\\Anaconda3\\lib\\tkinter\\__init__.py\", line 1705, in __call__\n",
      "    return self.func(*args)\n",
      "  File \"<ipython-input-40-d2ffc628c50c>\", line 71, in <lambda>\n",
      "    classify_b=Button(top,text=\"Classify Image\",command=lambda: classify(file_path),padx=10,pady=5)\n",
      "  File \"<ipython-input-40-d2ffc628c50c>\", line 66, in classify\n",
      "    pred = model.predict_classes([image])[0]\n",
      "  File \"C:\\Users\\dell\\Anaconda3\\lib\\site-packages\\keras\\engine\\sequential.py\", line 268, in predict_classes\n",
      "    proba = self.predict(x, batch_size=batch_size, verbose=verbose)\n",
      "  File \"C:\\Users\\dell\\Anaconda3\\lib\\site-packages\\keras\\engine\\training.py\", line 1441, in predict\n",
      "    x, _, _ = self._standardize_user_data(x)\n",
      "  File \"C:\\Users\\dell\\Anaconda3\\lib\\site-packages\\keras\\engine\\training.py\", line 579, in _standardize_user_data\n",
      "    exception_prefix='input')\n",
      "  File \"C:\\Users\\dell\\Anaconda3\\lib\\site-packages\\keras\\engine\\training_utils.py\", line 145, in standardize_input_data\n",
      "    str(data_shape))\n",
      "ValueError: Error when checking input: expected conv2d_1_input to have shape (30, 30, 3) but got array with shape (30, 30, 4)\n",
      "Exception in Tkinter callback\n",
      "Traceback (most recent call last):\n",
      "  File \"C:\\Users\\dell\\Anaconda3\\lib\\tkinter\\__init__.py\", line 1705, in __call__\n",
      "    return self.func(*args)\n",
      "  File \"<ipython-input-40-d2ffc628c50c>\", line 71, in <lambda>\n",
      "    classify_b=Button(top,text=\"Classify Image\",command=lambda: classify(file_path),padx=10,pady=5)\n",
      "  File \"<ipython-input-40-d2ffc628c50c>\", line 66, in classify\n",
      "    pred = model.predict_classes([image])[0]\n",
      "  File \"C:\\Users\\dell\\Anaconda3\\lib\\site-packages\\keras\\engine\\sequential.py\", line 268, in predict_classes\n",
      "    proba = self.predict(x, batch_size=batch_size, verbose=verbose)\n",
      "  File \"C:\\Users\\dell\\Anaconda3\\lib\\site-packages\\keras\\engine\\training.py\", line 1441, in predict\n",
      "    x, _, _ = self._standardize_user_data(x)\n",
      "  File \"C:\\Users\\dell\\Anaconda3\\lib\\site-packages\\keras\\engine\\training.py\", line 579, in _standardize_user_data\n",
      "    exception_prefix='input')\n",
      "  File \"C:\\Users\\dell\\Anaconda3\\lib\\site-packages\\keras\\engine\\training_utils.py\", line 145, in standardize_input_data\n",
      "    str(data_shape))\n",
      "ValueError: Error when checking input: expected conv2d_1_input to have shape (30, 30, 3) but got array with shape (30, 30, 4)\n",
      "Exception in Tkinter callback\n",
      "Traceback (most recent call last):\n",
      "  File \"C:\\Users\\dell\\Anaconda3\\lib\\tkinter\\__init__.py\", line 1705, in __call__\n",
      "    return self.func(*args)\n",
      "  File \"<ipython-input-40-d2ffc628c50c>\", line 71, in <lambda>\n",
      "    classify_b=Button(top,text=\"Classify Image\",command=lambda: classify(file_path),padx=10,pady=5)\n",
      "  File \"<ipython-input-40-d2ffc628c50c>\", line 66, in classify\n",
      "    pred = model.predict_classes([image])[0]\n",
      "  File \"C:\\Users\\dell\\Anaconda3\\lib\\site-packages\\keras\\engine\\sequential.py\", line 268, in predict_classes\n",
      "    proba = self.predict(x, batch_size=batch_size, verbose=verbose)\n",
      "  File \"C:\\Users\\dell\\Anaconda3\\lib\\site-packages\\keras\\engine\\training.py\", line 1441, in predict\n",
      "    x, _, _ = self._standardize_user_data(x)\n",
      "  File \"C:\\Users\\dell\\Anaconda3\\lib\\site-packages\\keras\\engine\\training.py\", line 579, in _standardize_user_data\n",
      "    exception_prefix='input')\n",
      "  File \"C:\\Users\\dell\\Anaconda3\\lib\\site-packages\\keras\\engine\\training_utils.py\", line 145, in standardize_input_data\n",
      "    str(data_shape))\n",
      "ValueError: Error when checking input: expected conv2d_1_input to have shape (30, 30, 3) but got array with shape (30, 30, 4)\n",
      "Exception in Tkinter callback\n",
      "Traceback (most recent call last):\n",
      "  File \"C:\\Users\\dell\\Anaconda3\\lib\\tkinter\\__init__.py\", line 1705, in __call__\n",
      "    return self.func(*args)\n",
      "  File \"<ipython-input-40-d2ffc628c50c>\", line 71, in <lambda>\n",
      "    classify_b=Button(top,text=\"Classify Image\",command=lambda: classify(file_path),padx=10,pady=5)\n",
      "  File \"<ipython-input-40-d2ffc628c50c>\", line 66, in classify\n",
      "    pred = model.predict_classes([image])[0]\n",
      "  File \"C:\\Users\\dell\\Anaconda3\\lib\\site-packages\\keras\\engine\\sequential.py\", line 268, in predict_classes\n",
      "    proba = self.predict(x, batch_size=batch_size, verbose=verbose)\n",
      "  File \"C:\\Users\\dell\\Anaconda3\\lib\\site-packages\\keras\\engine\\training.py\", line 1441, in predict\n",
      "    x, _, _ = self._standardize_user_data(x)\n",
      "  File \"C:\\Users\\dell\\Anaconda3\\lib\\site-packages\\keras\\engine\\training.py\", line 579, in _standardize_user_data\n",
      "    exception_prefix='input')\n",
      "  File \"C:\\Users\\dell\\Anaconda3\\lib\\site-packages\\keras\\engine\\training_utils.py\", line 145, in standardize_input_data\n",
      "    str(data_shape))\n",
      "ValueError: Error when checking input: expected conv2d_1_input to have shape (30, 30, 3) but got array with shape (30, 30, 4)\n",
      "Exception in Tkinter callback\n",
      "Traceback (most recent call last):\n",
      "  File \"C:\\Users\\dell\\Anaconda3\\lib\\tkinter\\__init__.py\", line 1705, in __call__\n",
      "    return self.func(*args)\n",
      "  File \"<ipython-input-40-d2ffc628c50c>\", line 71, in <lambda>\n",
      "    classify_b=Button(top,text=\"Classify Image\",command=lambda: classify(file_path),padx=10,pady=5)\n",
      "  File \"<ipython-input-40-d2ffc628c50c>\", line 66, in classify\n",
      "    pred = model.predict_classes([image])[0]\n",
      "  File \"C:\\Users\\dell\\Anaconda3\\lib\\site-packages\\keras\\engine\\sequential.py\", line 268, in predict_classes\n",
      "    proba = self.predict(x, batch_size=batch_size, verbose=verbose)\n",
      "  File \"C:\\Users\\dell\\Anaconda3\\lib\\site-packages\\keras\\engine\\training.py\", line 1441, in predict\n",
      "    x, _, _ = self._standardize_user_data(x)\n",
      "  File \"C:\\Users\\dell\\Anaconda3\\lib\\site-packages\\keras\\engine\\training.py\", line 579, in _standardize_user_data\n",
      "    exception_prefix='input')\n",
      "  File \"C:\\Users\\dell\\Anaconda3\\lib\\site-packages\\keras\\engine\\training_utils.py\", line 145, in standardize_input_data\n",
      "    str(data_shape))\n",
      "ValueError: Error when checking input: expected conv2d_1_input to have shape (30, 30, 3) but got array with shape (30, 30, 4)\n"
     ]
    },
    {
     "name": "stderr",
     "output_type": "stream",
     "text": [
      "Exception in Tkinter callback\n",
      "Traceback (most recent call last):\n",
      "  File \"C:\\Users\\dell\\Anaconda3\\lib\\tkinter\\__init__.py\", line 1705, in __call__\n",
      "    return self.func(*args)\n",
      "  File \"<ipython-input-40-d2ffc628c50c>\", line 71, in <lambda>\n",
      "    classify_b=Button(top,text=\"Classify Image\",command=lambda: classify(file_path),padx=10,pady=5)\n",
      "  File \"<ipython-input-40-d2ffc628c50c>\", line 66, in classify\n",
      "    pred = model.predict_classes([image])[0]\n",
      "  File \"C:\\Users\\dell\\Anaconda3\\lib\\site-packages\\keras\\engine\\sequential.py\", line 268, in predict_classes\n",
      "    proba = self.predict(x, batch_size=batch_size, verbose=verbose)\n",
      "  File \"C:\\Users\\dell\\Anaconda3\\lib\\site-packages\\keras\\engine\\training.py\", line 1441, in predict\n",
      "    x, _, _ = self._standardize_user_data(x)\n",
      "  File \"C:\\Users\\dell\\Anaconda3\\lib\\site-packages\\keras\\engine\\training.py\", line 579, in _standardize_user_data\n",
      "    exception_prefix='input')\n",
      "  File \"C:\\Users\\dell\\Anaconda3\\lib\\site-packages\\keras\\engine\\training_utils.py\", line 145, in standardize_input_data\n",
      "    str(data_shape))\n",
      "ValueError: Error when checking input: expected conv2d_1_input to have shape (30, 30, 3) but got array with shape (30, 30, 4)\n",
      "Exception in Tkinter callback\n",
      "Traceback (most recent call last):\n",
      "  File \"C:\\Users\\dell\\Anaconda3\\lib\\tkinter\\__init__.py\", line 1705, in __call__\n",
      "    return self.func(*args)\n",
      "  File \"<ipython-input-40-d2ffc628c50c>\", line 71, in <lambda>\n",
      "    classify_b=Button(top,text=\"Classify Image\",command=lambda: classify(file_path),padx=10,pady=5)\n",
      "  File \"<ipython-input-40-d2ffc628c50c>\", line 66, in classify\n",
      "    pred = model.predict_classes([image])[0]\n",
      "  File \"C:\\Users\\dell\\Anaconda3\\lib\\site-packages\\keras\\engine\\sequential.py\", line 268, in predict_classes\n",
      "    proba = self.predict(x, batch_size=batch_size, verbose=verbose)\n",
      "  File \"C:\\Users\\dell\\Anaconda3\\lib\\site-packages\\keras\\engine\\training.py\", line 1441, in predict\n",
      "    x, _, _ = self._standardize_user_data(x)\n",
      "  File \"C:\\Users\\dell\\Anaconda3\\lib\\site-packages\\keras\\engine\\training.py\", line 579, in _standardize_user_data\n",
      "    exception_prefix='input')\n",
      "  File \"C:\\Users\\dell\\Anaconda3\\lib\\site-packages\\keras\\engine\\training_utils.py\", line 145, in standardize_input_data\n",
      "    str(data_shape))\n",
      "ValueError: Error when checking input: expected conv2d_1_input to have shape (30, 30, 3) but got array with shape (30, 30, 4)\n",
      "Exception in Tkinter callback\n",
      "Traceback (most recent call last):\n",
      "  File \"C:\\Users\\dell\\Anaconda3\\lib\\tkinter\\__init__.py\", line 1705, in __call__\n",
      "    return self.func(*args)\n",
      "  File \"<ipython-input-40-d2ffc628c50c>\", line 71, in <lambda>\n",
      "    classify_b=Button(top,text=\"Classify Image\",command=lambda: classify(file_path),padx=10,pady=5)\n",
      "  File \"<ipython-input-40-d2ffc628c50c>\", line 66, in classify\n",
      "    pred = model.predict_classes([image])[0]\n",
      "  File \"C:\\Users\\dell\\Anaconda3\\lib\\site-packages\\keras\\engine\\sequential.py\", line 268, in predict_classes\n",
      "    proba = self.predict(x, batch_size=batch_size, verbose=verbose)\n",
      "  File \"C:\\Users\\dell\\Anaconda3\\lib\\site-packages\\keras\\engine\\training.py\", line 1441, in predict\n",
      "    x, _, _ = self._standardize_user_data(x)\n",
      "  File \"C:\\Users\\dell\\Anaconda3\\lib\\site-packages\\keras\\engine\\training.py\", line 579, in _standardize_user_data\n",
      "    exception_prefix='input')\n",
      "  File \"C:\\Users\\dell\\Anaconda3\\lib\\site-packages\\keras\\engine\\training_utils.py\", line 145, in standardize_input_data\n",
      "    str(data_shape))\n",
      "ValueError: Error when checking input: expected conv2d_1_input to have shape (30, 30, 3) but got array with shape (30, 30, 4)\n"
     ]
    },
    {
     "name": "stdout",
     "output_type": "stream",
     "text": [
      "Stop\n"
     ]
    },
    {
     "name": "stderr",
     "output_type": "stream",
     "text": [
      "Exception in Tkinter callback\n",
      "Traceback (most recent call last):\n",
      "  File \"C:\\Users\\dell\\Anaconda3\\lib\\tkinter\\__init__.py\", line 1705, in __call__\n",
      "    return self.func(*args)\n",
      "  File \"<ipython-input-40-d2ffc628c50c>\", line 71, in <lambda>\n",
      "    classify_b=Button(top,text=\"Classify Image\",command=lambda: classify(file_path),padx=10,pady=5)\n",
      "  File \"<ipython-input-40-d2ffc628c50c>\", line 66, in classify\n",
      "    pred = model.predict_classes([image])[0]\n",
      "  File \"C:\\Users\\dell\\Anaconda3\\lib\\site-packages\\keras\\engine\\sequential.py\", line 268, in predict_classes\n",
      "    proba = self.predict(x, batch_size=batch_size, verbose=verbose)\n",
      "  File \"C:\\Users\\dell\\Anaconda3\\lib\\site-packages\\keras\\engine\\training.py\", line 1441, in predict\n",
      "    x, _, _ = self._standardize_user_data(x)\n",
      "  File \"C:\\Users\\dell\\Anaconda3\\lib\\site-packages\\keras\\engine\\training.py\", line 579, in _standardize_user_data\n",
      "    exception_prefix='input')\n",
      "  File \"C:\\Users\\dell\\Anaconda3\\lib\\site-packages\\keras\\engine\\training_utils.py\", line 145, in standardize_input_data\n",
      "    str(data_shape))\n",
      "ValueError: Error when checking input: expected conv2d_1_input to have shape (30, 30, 3) but got array with shape (30, 30, 4)\n",
      "Exception in Tkinter callback\n",
      "Traceback (most recent call last):\n",
      "  File \"C:\\Users\\dell\\Anaconda3\\lib\\tkinter\\__init__.py\", line 1705, in __call__\n",
      "    return self.func(*args)\n",
      "  File \"<ipython-input-40-d2ffc628c50c>\", line 71, in <lambda>\n",
      "    classify_b=Button(top,text=\"Classify Image\",command=lambda: classify(file_path),padx=10,pady=5)\n",
      "  File \"<ipython-input-40-d2ffc628c50c>\", line 66, in classify\n",
      "    pred = model.predict_classes([image])[0]\n",
      "  File \"C:\\Users\\dell\\Anaconda3\\lib\\site-packages\\keras\\engine\\sequential.py\", line 268, in predict_classes\n",
      "    proba = self.predict(x, batch_size=batch_size, verbose=verbose)\n",
      "  File \"C:\\Users\\dell\\Anaconda3\\lib\\site-packages\\keras\\engine\\training.py\", line 1441, in predict\n",
      "    x, _, _ = self._standardize_user_data(x)\n",
      "  File \"C:\\Users\\dell\\Anaconda3\\lib\\site-packages\\keras\\engine\\training.py\", line 579, in _standardize_user_data\n",
      "    exception_prefix='input')\n",
      "  File \"C:\\Users\\dell\\Anaconda3\\lib\\site-packages\\keras\\engine\\training_utils.py\", line 145, in standardize_input_data\n",
      "    str(data_shape))\n",
      "ValueError: Error when checking input: expected conv2d_1_input to have shape (30, 30, 3) but got array with shape (30, 30, 4)\n",
      "Exception in Tkinter callback\n",
      "Traceback (most recent call last):\n",
      "  File \"C:\\Users\\dell\\Anaconda3\\lib\\tkinter\\__init__.py\", line 1705, in __call__\n",
      "    return self.func(*args)\n",
      "  File \"<ipython-input-40-d2ffc628c50c>\", line 71, in <lambda>\n",
      "    classify_b=Button(top,text=\"Classify Image\",command=lambda: classify(file_path),padx=10,pady=5)\n",
      "  File \"<ipython-input-40-d2ffc628c50c>\", line 66, in classify\n",
      "    pred = model.predict_classes([image])[0]\n",
      "  File \"C:\\Users\\dell\\Anaconda3\\lib\\site-packages\\keras\\engine\\sequential.py\", line 268, in predict_classes\n",
      "    proba = self.predict(x, batch_size=batch_size, verbose=verbose)\n",
      "  File \"C:\\Users\\dell\\Anaconda3\\lib\\site-packages\\keras\\engine\\training.py\", line 1441, in predict\n",
      "    x, _, _ = self._standardize_user_data(x)\n",
      "  File \"C:\\Users\\dell\\Anaconda3\\lib\\site-packages\\keras\\engine\\training.py\", line 579, in _standardize_user_data\n",
      "    exception_prefix='input')\n",
      "  File \"C:\\Users\\dell\\Anaconda3\\lib\\site-packages\\keras\\engine\\training_utils.py\", line 145, in standardize_input_data\n",
      "    str(data_shape))\n",
      "ValueError: Error when checking input: expected conv2d_1_input to have shape (30, 30, 3) but got array with shape (30, 30, 4)\n",
      "Exception in Tkinter callback\n",
      "Traceback (most recent call last):\n",
      "  File \"C:\\Users\\dell\\Anaconda3\\lib\\tkinter\\__init__.py\", line 1705, in __call__\n",
      "    return self.func(*args)\n",
      "  File \"<ipython-input-40-d2ffc628c50c>\", line 71, in <lambda>\n",
      "    classify_b=Button(top,text=\"Classify Image\",command=lambda: classify(file_path),padx=10,pady=5)\n",
      "  File \"<ipython-input-40-d2ffc628c50c>\", line 66, in classify\n",
      "    pred = model.predict_classes([image])[0]\n",
      "  File \"C:\\Users\\dell\\Anaconda3\\lib\\site-packages\\keras\\engine\\sequential.py\", line 268, in predict_classes\n",
      "    proba = self.predict(x, batch_size=batch_size, verbose=verbose)\n",
      "  File \"C:\\Users\\dell\\Anaconda3\\lib\\site-packages\\keras\\engine\\training.py\", line 1441, in predict\n",
      "    x, _, _ = self._standardize_user_data(x)\n",
      "  File \"C:\\Users\\dell\\Anaconda3\\lib\\site-packages\\keras\\engine\\training.py\", line 579, in _standardize_user_data\n",
      "    exception_prefix='input')\n",
      "  File \"C:\\Users\\dell\\Anaconda3\\lib\\site-packages\\keras\\engine\\training_utils.py\", line 145, in standardize_input_data\n",
      "    str(data_shape))\n",
      "ValueError: Error when checking input: expected conv2d_1_input to have shape (30, 30, 3) but got array with shape (30, 30, 4)\n",
      "Exception in Tkinter callback\n",
      "Traceback (most recent call last):\n",
      "  File \"C:\\Users\\dell\\Anaconda3\\lib\\tkinter\\__init__.py\", line 1705, in __call__\n",
      "    return self.func(*args)\n",
      "  File \"<ipython-input-40-d2ffc628c50c>\", line 71, in <lambda>\n",
      "    classify_b=Button(top,text=\"Classify Image\",command=lambda: classify(file_path),padx=10,pady=5)\n",
      "  File \"<ipython-input-40-d2ffc628c50c>\", line 66, in classify\n",
      "    pred = model.predict_classes([image])[0]\n",
      "  File \"C:\\Users\\dell\\Anaconda3\\lib\\site-packages\\keras\\engine\\sequential.py\", line 268, in predict_classes\n",
      "    proba = self.predict(x, batch_size=batch_size, verbose=verbose)\n",
      "  File \"C:\\Users\\dell\\Anaconda3\\lib\\site-packages\\keras\\engine\\training.py\", line 1441, in predict\n",
      "    x, _, _ = self._standardize_user_data(x)\n",
      "  File \"C:\\Users\\dell\\Anaconda3\\lib\\site-packages\\keras\\engine\\training.py\", line 579, in _standardize_user_data\n",
      "    exception_prefix='input')\n",
      "  File \"C:\\Users\\dell\\Anaconda3\\lib\\site-packages\\keras\\engine\\training_utils.py\", line 145, in standardize_input_data\n",
      "    str(data_shape))\n",
      "ValueError: Error when checking input: expected conv2d_1_input to have shape (30, 30, 3) but got array with shape (30, 30, 4)\n"
     ]
    },
    {
     "name": "stdout",
     "output_type": "stream",
     "text": [
      "Speed limit (80km/h)\n",
      "Speed limit (80km/h)\n",
      "Keep right\n",
      "Speed limit (80km/h)\n"
     ]
    }
   ],
   "source": [
    "import tkinter as tk\n",
    "from tkinter import filedialog\n",
    "from tkinter import *\n",
    "from PIL import ImageTk, Image\n",
    "import numpy\n",
    "#load the trained model to classify sign\n",
    "from keras.models import load_model\n",
    "model = load_model('traffic_classifier.h5')\n",
    "#dictionary to label all traffic signs class.\n",
    "classes = { 1:'Speed limit (20km/h)',\n",
    "            2:'Speed limit (30km/h)', \n",
    "            3:'Speed limit (50km/h)', \n",
    "            4:'Speed limit (60km/h)', \n",
    "            5:'Speed limit (70km/h)', \n",
    "            6:'Speed limit (80km/h)', \n",
    "            7:'End of speed limit (80km/h)', \n",
    "            8:'Speed limit (100km/h)', \n",
    "            9:'Speed limit (120km/h)', \n",
    "            10:'No passing', \n",
    "            11:'No passing veh over 3.5 tons', \n",
    "            12:'Right-of-way at intersection', \n",
    "            13:'Priority road', \n",
    "            14:'Yield', \n",
    "            15:'Stop', \n",
    "            16:'No vehicles', \n",
    "            17:'Veh > 3.5 tons prohibited', \n",
    "            18:'No entry', \n",
    "            19:'General caution', \n",
    "            20:'Dangerous curve left', \n",
    "            21:'Dangerous curve right', \n",
    "            22:'Double curve', \n",
    "            23:'Bumpy road', \n",
    "            24:'Slippery road', \n",
    "            25:'Road narrows on the right', \n",
    "            26:'Road work', \n",
    "            27:'Traffic signals', \n",
    "            28:'Pedestrians', \n",
    "            29:'Children crossing', \n",
    "            30:'Bicycles crossing', \n",
    "            31:'Beware of ice/snow',\n",
    "            32:'Wild animals crossing', \n",
    "            33:'End speed + passing limits', \n",
    "            34:'Turn right ahead', \n",
    "            35:'Turn left ahead', \n",
    "            36:'Ahead only', \n",
    "            37:'Go straight or right', \n",
    "            38:'Go straight or left', \n",
    "            39:'Keep right', \n",
    "            40:'Keep left', \n",
    "            41:'Roundabout mandatory', \n",
    "            42:'End of no passing', \n",
    "            43:'End no passing veh > 3.5 tons' }\n",
    "#initialise GUI\n",
    "top=tk.Tk()\n",
    "top.geometry('800x600')\n",
    "top.title('Traffic sign classification')\n",
    "top.configure(background='#CDCDCD')\n",
    "label=Label(top,background='#CDCDCD', font=('arial',15,'bold'))\n",
    "sign_image = Label(top)\n",
    "def classify(file_path):\n",
    "    global label_packed\n",
    "    image = Image.open(file_path)\n",
    "    image = image.resize((30,30))\n",
    "    image = numpy.expand_dims(image, axis=0)\n",
    "    image = numpy.array(image)\n",
    "    pred = model.predict_classes([image])[0]\n",
    "    sign = classes[pred+1]\n",
    "    print(sign)\n",
    "    label.configure(foreground='#011638', text=sign) \n",
    "def show_classify_button(file_path):\n",
    "    classify_b=Button(top,text=\"Classify Image\",command=lambda: classify(file_path),padx=10,pady=5)\n",
    "    classify_b.configure(background='#364156', foreground='white',font=('arial',10,'bold'))\n",
    "    classify_b.place(relx=0.79,rely=0.46)\n",
    "def upload_image():\n",
    "    try:\n",
    "        file_path=filedialog.askopenfilename()\n",
    "        uploaded=Image.open(file_path)\n",
    "        uploaded.thumbnail(((top.winfo_width()/2.25),(top.winfo_height()/2.25)))\n",
    "        im=ImageTk.PhotoImage(uploaded)\n",
    "        sign_image.configure(image=im)\n",
    "        sign_image.image=im\n",
    "        label.configure(text='')\n",
    "        show_classify_button(file_path)\n",
    "    except:\n",
    "        pass\n",
    "upload=Button(top,text=\"Upload an image\",command=upload_image,padx=10,pady=5)\n",
    "upload.configure(background='#364156', foreground='white',font=('arial',10,'bold'))\n",
    "upload.pack(side=BOTTOM,pady=50)\n",
    "sign_image.pack(side=BOTTOM,expand=True)\n",
    "label.pack(side=BOTTOM,expand=True)\n",
    "heading = Label(top, text=\"Know Your Traffic Sign\",pady=20, font=('arial',20,'bold'))\n",
    "heading.configure(background='#CDCDCD',foreground='#364156')\n",
    "heading.pack()\n",
    "top.mainloop()\n"
   ]
  },
  {
   "cell_type": "code",
   "execution_count": null,
   "metadata": {},
   "outputs": [],
   "source": []
  }
 ],
 "metadata": {
  "kernelspec": {
   "display_name": "Python 3",
   "language": "python",
   "name": "python3"
  },
  "language_info": {
   "codemirror_mode": {
    "name": "ipython",
    "version": 3
   },
   "file_extension": ".py",
   "mimetype": "text/x-python",
   "name": "python",
   "nbconvert_exporter": "python",
   "pygments_lexer": "ipython3",
   "version": "3.7.4"
  }
 },
 "nbformat": 4,
 "nbformat_minor": 2
}
